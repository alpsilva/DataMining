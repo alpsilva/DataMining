{
 "cells": [
  {
   "cell_type": "code",
   "execution_count": 1,
   "metadata": {},
   "outputs": [
    {
     "name": "stdout",
     "output_type": "stream",
     "text": [
      "Defaulting to user installation because normal site-packages is not writeable\n",
      "Requirement already satisfied: neupy in /home/alps2/.local/lib/python3.10/site-packages (0.6.5)\n",
      "Requirement already satisfied: matplotlib>=1.5.1 in /home/alps2/.local/lib/python3.10/site-packages (from neupy) (3.5.3)\n",
      "Requirement already satisfied: scipy>=0.19.0 in /home/alps2/.local/lib/python3.10/site-packages (from neupy) (1.8.1)\n",
      "Requirement already satisfied: progressbar2==3.34.3 in /home/alps2/.local/lib/python3.10/site-packages (from neupy) (3.34.3)\n",
      "Requirement already satisfied: graphviz==0.5.1 in /home/alps2/.local/lib/python3.10/site-packages (from neupy) (0.5.1)\n",
      "Requirement already satisfied: tableprint==0.7.1 in /home/alps2/.local/lib/python3.10/site-packages (from neupy) (0.7.1)\n",
      "Requirement already satisfied: Theano==1.0.0 in /home/alps2/.local/lib/python3.10/site-packages (from neupy) (1.0.0)\n",
      "Requirement already satisfied: numpy>=1.9.0 in /home/alps2/.local/lib/python3.10/site-packages (from neupy) (1.23.2)\n",
      "Requirement already satisfied: python-utils>=2.1.0 in /home/alps2/.local/lib/python3.10/site-packages (from progressbar2==3.34.3->neupy) (3.4.5)\n",
      "Requirement already satisfied: future in /home/alps2/.local/lib/python3.10/site-packages (from tableprint==0.7.1->neupy) (0.18.3)\n",
      "Requirement already satisfied: wcwidth in /home/alps2/.local/lib/python3.10/site-packages (from tableprint==0.7.1->neupy) (0.2.5)\n",
      "Requirement already satisfied: six in /usr/lib/python3/dist-packages (from tableprint==0.7.1->neupy) (1.16.0)\n",
      "Requirement already satisfied: cycler>=0.10 in /home/alps2/.local/lib/python3.10/site-packages (from matplotlib>=1.5.1->neupy) (0.11.0)\n",
      "Requirement already satisfied: pillow>=6.2.0 in /usr/lib/python3/dist-packages (from matplotlib>=1.5.1->neupy) (9.0.1)\n",
      "Requirement already satisfied: packaging>=20.0 in /home/alps2/.local/lib/python3.10/site-packages (from matplotlib>=1.5.1->neupy) (21.3)\n",
      "Requirement already satisfied: pyparsing>=2.2.1 in /usr/lib/python3/dist-packages (from matplotlib>=1.5.1->neupy) (2.4.7)\n",
      "Requirement already satisfied: fonttools>=4.22.0 in /home/alps2/.local/lib/python3.10/site-packages (from matplotlib>=1.5.1->neupy) (4.36.0)\n",
      "Requirement already satisfied: kiwisolver>=1.0.1 in /home/alps2/.local/lib/python3.10/site-packages (from matplotlib>=1.5.1->neupy) (1.4.4)\n",
      "Requirement already satisfied: python-dateutil>=2.7 in /home/alps2/.local/lib/python3.10/site-packages (from matplotlib>=1.5.1->neupy) (2.8.1)\n",
      "Note: you may need to restart the kernel to use updated packages.\n"
     ]
    }
   ],
   "source": [
    "%pip install neupy"
   ]
  },
  {
   "cell_type": "code",
   "execution_count": 2,
   "metadata": {},
   "outputs": [
    {
     "ename": "ImportError",
     "evalue": "cannot import name 'MutableMapping' from 'collections' (/usr/lib/python3.10/collections/__init__.py)",
     "output_type": "error",
     "traceback": [
      "\u001b[0;31m---------------------------------------------------------------------------\u001b[0m",
      "\u001b[0;31mImportError\u001b[0m                               Traceback (most recent call last)",
      "\u001b[1;32m/home/alps2/DataMining/knn_and_lvq/lvq.ipynb Cell 2\u001b[0m in \u001b[0;36m<cell line: 8>\u001b[0;34m()\u001b[0m\n\u001b[1;32m      <a href='vscode-notebook-cell:/home/alps2/DataMining/knn_and_lvq/lvq.ipynb#W1sZmlsZQ%3D%3D?line=5'>6</a>\u001b[0m \u001b[39mfrom\u001b[39;00m \u001b[39msklearn\u001b[39;00m\u001b[39m.\u001b[39;00m\u001b[39mmodel_selection\u001b[39;00m \u001b[39mimport\u001b[39;00m train_test_split\n\u001b[1;32m      <a href='vscode-notebook-cell:/home/alps2/DataMining/knn_and_lvq/lvq.ipynb#W1sZmlsZQ%3D%3D?line=6'>7</a>\u001b[0m \u001b[39mfrom\u001b[39;00m \u001b[39msklearn\u001b[39;00m\u001b[39m.\u001b[39;00m\u001b[39mmodel_selection\u001b[39;00m \u001b[39mimport\u001b[39;00m cross_val_score\n\u001b[0;32m----> <a href='vscode-notebook-cell:/home/alps2/DataMining/knn_and_lvq/lvq.ipynb#W1sZmlsZQ%3D%3D?line=7'>8</a>\u001b[0m \u001b[39mfrom\u001b[39;00m \u001b[39mneupy\u001b[39;00m \u001b[39mimport\u001b[39;00m algorithms\n\u001b[1;32m      <a href='vscode-notebook-cell:/home/alps2/DataMining/knn_and_lvq/lvq.ipynb#W1sZmlsZQ%3D%3D?line=8'>9</a>\u001b[0m \u001b[39mfrom\u001b[39;00m \u001b[39msklearn\u001b[39;00m\u001b[39m.\u001b[39;00m\u001b[39mmetrics\u001b[39;00m \u001b[39mimport\u001b[39;00m accuracy_score\n\u001b[1;32m     <a href='vscode-notebook-cell:/home/alps2/DataMining/knn_and_lvq/lvq.ipynb#W1sZmlsZQ%3D%3D?line=9'>10</a>\u001b[0m plt\u001b[39m.\u001b[39mrcParams[\u001b[39m'\u001b[39m\u001b[39mfigure.figsize\u001b[39m\u001b[39m'\u001b[39m] \u001b[39m=\u001b[39m [\u001b[39m16\u001b[39m, \u001b[39m10\u001b[39m]\n",
      "File \u001b[0;32m~/.local/lib/python3.10/site-packages/neupy/algorithms/__init__.py:1\u001b[0m, in \u001b[0;36m<module>\u001b[0;34m\u001b[0m\n\u001b[0;32m----> 1\u001b[0m \u001b[39mfrom\u001b[39;00m \u001b[39m.\u001b[39;00m\u001b[39mgd\u001b[39;00m\u001b[39m.\u001b[39;00m\u001b[39mbase\u001b[39;00m \u001b[39mimport\u001b[39;00m \u001b[39m*\u001b[39m\n\u001b[1;32m      2\u001b[0m \u001b[39mfrom\u001b[39;00m \u001b[39m.\u001b[39;00m\u001b[39mgd\u001b[39;00m\u001b[39m.\u001b[39;00m\u001b[39mlev_marq\u001b[39;00m \u001b[39mimport\u001b[39;00m \u001b[39m*\u001b[39m\n\u001b[1;32m      3\u001b[0m \u001b[39mfrom\u001b[39;00m \u001b[39m.\u001b[39;00m\u001b[39mgd\u001b[39;00m\u001b[39m.\u001b[39;00m\u001b[39mquasi_newton\u001b[39;00m \u001b[39mimport\u001b[39;00m \u001b[39m*\u001b[39m\n",
      "File \u001b[0;32m~/.local/lib/python3.10/site-packages/neupy/algorithms/gd/base.py:6\u001b[0m, in \u001b[0;36m<module>\u001b[0;34m\u001b[0m\n\u001b[1;32m      3\u001b[0m \u001b[39mimport\u001b[39;00m \u001b[39mmath\u001b[39;00m\n\u001b[1;32m      5\u001b[0m \u001b[39mimport\u001b[39;00m \u001b[39msix\u001b[39;00m\n\u001b[0;32m----> 6\u001b[0m \u001b[39mimport\u001b[39;00m \u001b[39mtheano\u001b[39;00m\n\u001b[1;32m      7\u001b[0m \u001b[39mimport\u001b[39;00m \u001b[39mtheano\u001b[39;00m\u001b[39m.\u001b[39;00m\u001b[39mtensor\u001b[39;00m \u001b[39mas\u001b[39;00m \u001b[39mT\u001b[39;00m\n\u001b[1;32m      8\u001b[0m \u001b[39mimport\u001b[39;00m \u001b[39mnumpy\u001b[39;00m \u001b[39mas\u001b[39;00m \u001b[39mnp\u001b[39;00m\n",
      "File \u001b[0;32m~/.local/lib/python3.10/site-packages/theano/__init__.py:88\u001b[0m, in \u001b[0;36m<module>\u001b[0;34m\u001b[0m\n\u001b[1;32m     82\u001b[0m         warnings\u001b[39m.\u001b[39mwarn(\n\u001b[1;32m     83\u001b[0m             \u001b[39m\"\u001b[39m\u001b[39mYou have the theano directory in your Python path.\u001b[39m\u001b[39m\"\u001b[39m\n\u001b[1;32m     84\u001b[0m             \u001b[39m\"\u001b[39m\u001b[39m This is will not work in Python 3.\u001b[39m\u001b[39m\"\u001b[39m)\n\u001b[1;32m     85\u001b[0m     \u001b[39mbreak\u001b[39;00m\n\u001b[0;32m---> 88\u001b[0m \u001b[39mfrom\u001b[39;00m \u001b[39mtheano\u001b[39;00m\u001b[39m.\u001b[39;00m\u001b[39mconfigdefaults\u001b[39;00m \u001b[39mimport\u001b[39;00m config\n\u001b[1;32m     89\u001b[0m \u001b[39mfrom\u001b[39;00m \u001b[39mtheano\u001b[39;00m\u001b[39m.\u001b[39;00m\u001b[39mconfigparser\u001b[39;00m \u001b[39mimport\u001b[39;00m change_flags\n\u001b[1;32m     91\u001b[0m \u001b[39m# This is the api version for ops that generate C code.  External ops\u001b[39;00m\n\u001b[1;32m     92\u001b[0m \u001b[39m# might need manual changes if this number goes up.  An undefined\u001b[39;00m\n\u001b[1;32m     93\u001b[0m \u001b[39m# __api_version__ can be understood to mean api version 0.\u001b[39;00m\n\u001b[1;32m     94\u001b[0m \u001b[39m#\u001b[39;00m\n\u001b[1;32m     95\u001b[0m \u001b[39m# This number is not tied to the release version and should change\u001b[39;00m\n\u001b[1;32m     96\u001b[0m \u001b[39m# very rarely.\u001b[39;00m\n",
      "File \u001b[0;32m~/.local/lib/python3.10/site-packages/theano/configdefaults.py:17\u001b[0m, in \u001b[0;36m<module>\u001b[0;34m\u001b[0m\n\u001b[1;32m     14\u001b[0m \u001b[39mfrom\u001b[39;00m \u001b[39msix\u001b[39;00m \u001b[39mimport\u001b[39;00m string_types\n\u001b[1;32m     16\u001b[0m \u001b[39mimport\u001b[39;00m \u001b[39mtheano\u001b[39;00m\n\u001b[0;32m---> 17\u001b[0m \u001b[39mfrom\u001b[39;00m \u001b[39mtheano\u001b[39;00m\u001b[39m.\u001b[39;00m\u001b[39mconfigparser\u001b[39;00m \u001b[39mimport\u001b[39;00m (AddConfigVar, BoolParam, ConfigParam, EnumStr,\n\u001b[1;32m     18\u001b[0m                                  FloatParam, IntParam, StrParam,\n\u001b[1;32m     19\u001b[0m                                  TheanoConfigParser, THEANO_FLAGS_DICT)\n\u001b[1;32m     20\u001b[0m \u001b[39mfrom\u001b[39;00m \u001b[39mtheano\u001b[39;00m\u001b[39m.\u001b[39;00m\u001b[39mmisc\u001b[39;00m\u001b[39m.\u001b[39;00m\u001b[39mcpucount\u001b[39;00m \u001b[39mimport\u001b[39;00m cpuCount\n\u001b[1;32m     21\u001b[0m \u001b[39mfrom\u001b[39;00m \u001b[39mtheano\u001b[39;00m\u001b[39m.\u001b[39;00m\u001b[39mmisc\u001b[39;00m\u001b[39m.\u001b[39;00m\u001b[39mwindows\u001b[39;00m \u001b[39mimport\u001b[39;00m call_subprocess_Popen, output_subprocess_Popen\n",
      "File \u001b[0;32m~/.local/lib/python3.10/site-packages/theano/configparser.py:16\u001b[0m, in \u001b[0;36m<module>\u001b[0;34m\u001b[0m\n\u001b[1;32m     13\u001b[0m \u001b[39mfrom\u001b[39;00m \u001b[39msix\u001b[39;00m \u001b[39mimport\u001b[39;00m StringIO, PY3, iteritems\n\u001b[1;32m     15\u001b[0m \u001b[39mimport\u001b[39;00m \u001b[39mtheano\u001b[39;00m\n\u001b[0;32m---> 16\u001b[0m \u001b[39mfrom\u001b[39;00m \u001b[39mtheano\u001b[39;00m\u001b[39m.\u001b[39;00m\u001b[39mcompat\u001b[39;00m \u001b[39mimport\u001b[39;00m configparser \u001b[39mas\u001b[39;00m ConfigParser\n\u001b[1;32m     17\u001b[0m \u001b[39mfrom\u001b[39;00m \u001b[39msix\u001b[39;00m \u001b[39mimport\u001b[39;00m string_types\n\u001b[1;32m     19\u001b[0m _logger \u001b[39m=\u001b[39m logging\u001b[39m.\u001b[39mgetLogger(\u001b[39m'\u001b[39m\u001b[39mtheano.configparser\u001b[39m\u001b[39m'\u001b[39m)\n",
      "File \u001b[0;32m~/.local/lib/python3.10/site-packages/theano/compat/__init__.py:40\u001b[0m, in \u001b[0;36m<module>\u001b[0;34m\u001b[0m\n\u001b[1;32m     37\u001b[0m         \u001b[39mreturn\u001b[39;00m unbound\u001b[39m.\u001b[39m\u001b[39m__func__\u001b[39m\n\u001b[1;32m     38\u001b[0m     \u001b[39mreturn\u001b[39;00m unbound\n\u001b[0;32m---> 40\u001b[0m \u001b[39mfrom\u001b[39;00m \u001b[39mcollections\u001b[39;00m \u001b[39mimport\u001b[39;00m OrderedDict, MutableMapping \u001b[39mas\u001b[39;00m DictMixin\n\u001b[1;32m     42\u001b[0m \u001b[39mdef\u001b[39;00m \u001b[39mdecode\u001b[39m(x):\n\u001b[1;32m     43\u001b[0m     \u001b[39mreturn\u001b[39;00m x\u001b[39m.\u001b[39mdecode()\n",
      "\u001b[0;31mImportError\u001b[0m: cannot import name 'MutableMapping' from 'collections' (/usr/lib/python3.10/collections/__init__.py)"
     ]
    }
   ],
   "source": [
    "# USANDO O LVQ NA BASE DE DADOS DO DIABETES\n",
    "# ESCOLHENDO VARIOS PROTOTIPOS PARA A BASE\n",
    "\n",
    "import pandas\n",
    "from matplotlib import pyplot as plt\n",
    "from sklearn.model_selection import train_test_split\n",
    "from sklearn.model_selection import cross_val_score\n",
    "from neupy import algorithms\n",
    "from sklearn.metrics import accuracy_score\n",
    "plt.rcParams['figure.figsize'] = [16, 10]\n",
    "\n",
    "#definindo os nomes de cada coluna   \n",
    "names = ['num-pregnant', 'glucose', 'diastolic', 'triceps-skin', 'insulin', 'body-mass', 'diabetes-pedigree', 'age', 'class']\n",
    "\n",
    "#Fazendo o carregamento dos dados diretamente do UCI Machine Learning          \n",
    "dataset = pandas.read_csv(\"pima-indians-diabetes.csv\", names=names)\n",
    "\n",
    "# print(\"Primeiros dados\")\n",
    "# print(dataset.head(5))\n",
    "\n",
    "#divisao de dados atributos e classe\n",
    "X = dataset.values[:, 0:len(dataset.values[0])-1] #caracteristicas\n",
    "Y = dataset.values[:, len(dataset.values[0])-1] #classe\n",
    "\n",
    "#usando o metodo para fazer uma unica divisao dos dados\n",
    "X_train, X_test, y_train, y_test = train_test_split( X, Y, test_size = 0.25, random_state = 10)\n",
    "\n",
    "X_train, X_valid, y_train, y_valid = train_test_split(X_train, y_train, test_size = 0.25, random_state = 10)"
   ]
  },
  {
   "cell_type": "code",
   "execution_count": null,
   "metadata": {},
   "outputs": [],
   "source": [
    "p_range = range(3, 80)\n",
    "\n",
    "parameters_scores = {}\n",
    "\n",
    "p_scores_train = []\n",
    "# p_scores_train_full = []\n",
    "p_scores_valid = []\n",
    "\n",
    "# use iteration to caclulator different k in models, then return the average accuracy based on the cross validation\n",
    "for p in p_range:\n",
    "    lvqnet = algorithms.LVQ(n_inputs=7, n_classes=2, n_subclasses=p)\n",
    "    scores = cross_val_score(lvqnet, X_train, y_train, cv=5, scoring='accuracy')\n",
    "    mean_cross_val_score = scores.mean()\n",
    "    p_scores_train.append(mean_cross_val_score)\n",
    "    \n",
    "    lvqnet.train(X_train, y_train, epochs=20)\n",
    "    # train_score = accuracy_score(lvqnet.predict(X_train),y_train)\n",
    "    validation_score = accuracy_score(lvqnet.predict(X_valid), y_valid)\n",
    "    # p_scores_train_full.append(train_score)\n",
    "    p_scores_valid.append(validation_score)\n",
    "\n",
    "    # We store the parameters used under the average score of CV and validation set\n",
    "    registered_scores = [mean_cross_val_score, validation_score]\n",
    "    avg_score = round((sum(registered_scores) / len(registered_scores)), 6)\n",
    "    parameters_scores[avg_score] = (p, registered_scores)\n",
    "\n",
    "# plot to see clearly\n",
    "plt.plot(p_range, p_scores_train)\n",
    "#plt.plot(p_range, p_scores_train_full)\n",
    "plt.plot(p_range, p_scores_valid)\n",
    "plt.legend(('Score medio Treino CV', 'Conj. Validacao'),\n",
    "           loc='upper center', shadow=True)\n",
    "plt.xlabel('Number of centroids for LVQ')\n",
    "plt.ylabel('Cross-Validated Accuracy')\n",
    "plt.show()"
   ]
  },
  {
   "cell_type": "code",
   "execution_count": null,
   "metadata": {},
   "outputs": [],
   "source": [
    "# we create an instance of Neighbours Classifier and fit the data, using the best parameters.\n",
    "best_avg = max(parameters_scores.keys())\n",
    "(best_subclasses_number, registered_scores) = parameters_scores[best_avg]\n",
    "\n",
    "lvqnet = algorithms.LVQ(n_inputs=7, n_classes=2, n_subclasses=best_subclasses_number)\n",
    "lvqnet.train(X_train, y_train, epochs=20)\n",
    "\n",
    "print(\"Classificador com os melhores parametros encontrados:\")\n",
    "print(\"subclasses:\", best_subclasses_number)\n",
    "print(\"Cross Val Score:\", registered_scores[0])\n",
    "print(\"validation set Score:\", registered_scores[1])\n",
    "\n",
    "print(\"Acuracia de treinamento clf: %0.3f\" %  accuracy_score(lvqnet.predict(X_train),y_train))\n",
    "print(\"Acuracia de teste clf: %0.3f\" %  accuracy_score(lvqnet.predict(X_test), y_test))"
   ]
  }
 ],
 "metadata": {
  "kernelspec": {
   "display_name": "Python 3",
   "language": "python",
   "name": "python3"
  },
  "language_info": {
   "codemirror_mode": {
    "name": "ipython",
    "version": 3
   },
   "file_extension": ".py",
   "mimetype": "text/x-python",
   "name": "python",
   "nbconvert_exporter": "python",
   "pygments_lexer": "ipython3",
   "version": "3.10.6"
  },
  "orig_nbformat": 4,
  "vscode": {
   "interpreter": {
    "hash": "916dbcbb3f70747c44a77c7bcd40155683ae19c65e1c03b4aa3499c5328201f1"
   }
  }
 },
 "nbformat": 4,
 "nbformat_minor": 2
}
