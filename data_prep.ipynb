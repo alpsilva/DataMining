{
 "cells": [
  {
   "cell_type": "code",
   "execution_count": 74,
   "metadata": {},
   "outputs": [
    {
     "name": "stdout",
     "output_type": "stream",
     "text": [
      "Defaulting to user installation because normal site-packages is not writeable\n",
      "Requirement already satisfied: xlrd in /home/alps2/.local/lib/python3.10/site-packages (2.0.1)\n",
      "Defaulting to user installation because normal site-packages is not writeable\n",
      "Requirement already satisfied: scikit-learn in /home/alps2/.local/lib/python3.10/site-packages (1.1.2)\n",
      "Requirement already satisfied: threadpoolctl>=2.0.0 in /home/alps2/.local/lib/python3.10/site-packages (from scikit-learn) (3.1.0)\n",
      "Requirement already satisfied: joblib>=1.0.0 in /home/alps2/.local/lib/python3.10/site-packages (from scikit-learn) (1.1.0)\n",
      "Requirement already satisfied: scipy>=1.3.2 in /home/alps2/.local/lib/python3.10/site-packages (from scikit-learn) (1.8.1)\n",
      "Requirement already satisfied: numpy>=1.17.3 in /home/alps2/.local/lib/python3.10/site-packages (from scikit-learn) (1.23.2)\n"
     ]
    }
   ],
   "source": [
    "#Disciplina: Solucoes em Mineracao de dados\n",
    "#--------------------------------------------------------\n",
    "#Script para a analise exploratoria dos dados (AED)\n",
    "#--------------------------------------------------------\n",
    "\n",
    "# Importando as bibliotecas necessarias\n",
    "\n",
    "!pip3 install xlrd\n",
    "!pip3 install scikit-learn\n",
    "\n",
    "import pandas\n",
    "from sklearn.model_selection import train_test_split\n",
    "from sklearn.preprocessing import MinMaxScaler"
   ]
  },
  {
   "attachments": {},
   "cell_type": "markdown",
   "metadata": {},
   "source": [
    "# Importação do dataset\n",
    "\n",
    "Por meio da opção dtype, na leitura do arquivo xls, é possível apontar o tipo exato de cada atributo, garantindo um maior controle sobre o dataset.\n",
    "\n",
    "\n",
    "Foram criadas listas de nomes de atributos, para auxiliar na separação dos datasets de treino e teste.\n",
    "\n",
    "- features: Lista com todos os atributos que não são a label.\n",
    "- label: Lista contendo o atributo que é a label."
   ]
  },
  {
   "cell_type": "code",
   "execution_count": 75,
   "metadata": {},
   "outputs": [],
   "source": [
    "file_path = \"./default of credit card clients.xls\"\n",
    "\n",
    "dtypes = {\n",
    "    \"ID\": int,\n",
    "    \"LIMIT_BAL\": float,\n",
    "    \"SEX\": \"object\",                       \n",
    "    \"EDUCATION\": \"object\",                     \n",
    "    \"MARRIAGE\": \"object\",                \n",
    "    \"AGE\": int,                          \n",
    "    \"PAY_0\": \"object\",                        \n",
    "    \"PAY_2\": \"object\",                        \n",
    "    \"PAY_3\": \"object\",                         \n",
    "    \"PAY_4\": \"object\",                        \n",
    "    \"PAY_5\": \"object\",                         \n",
    "    \"PAY_6\": \"object\",                        \n",
    "    \"BILL_AMT1\": float,                    \n",
    "    \"BILL_AMT2\": float,              \n",
    "    \"BILL_AMT3\": float,              \n",
    "    \"BILL_AMT4\": float,              \n",
    "    \"BILL_AMT5\": float,              \n",
    "    \"BILL_AMT6\": float,              \n",
    "    \"PAY_AMT1\": float,                      \n",
    "    \"PAY_AMT2\": float,                      \n",
    "    \"PAY_AMT3\": float,                      \n",
    "    \"PAY_AMT4\": float,                      \n",
    "    \"PAY_AMT5\": float,                      \n",
    "    \"PAY_AMT6\": float,                      \n",
    "    \"default payment next month\": \"object\"\n",
    "}\n",
    "\n",
    "df = pandas.read_excel(file_path, header = 1, dtype=dtypes)\n",
    "\n",
    "columns = list(df.columns)\n",
    "features = columns[:len(columns)-1]\n",
    "label = columns[len(columns)-1:]"
   ]
  },
  {
   "attachments": {},
   "cell_type": "markdown",
   "metadata": {},
   "source": [
    "# Verificando tipos de dados"
   ]
  },
  {
   "cell_type": "code",
   "execution_count": 76,
   "metadata": {},
   "outputs": [
    {
     "data": {
      "text/plain": [
       "ID                              int64\n",
       "LIMIT_BAL                     float64\n",
       "SEX                            object\n",
       "EDUCATION                      object\n",
       "MARRIAGE                       object\n",
       "AGE                             int64\n",
       "PAY_0                          object\n",
       "PAY_2                          object\n",
       "PAY_3                          object\n",
       "PAY_4                          object\n",
       "PAY_5                          object\n",
       "PAY_6                          object\n",
       "BILL_AMT1                     float64\n",
       "BILL_AMT2                     float64\n",
       "BILL_AMT3                     float64\n",
       "BILL_AMT4                     float64\n",
       "BILL_AMT5                     float64\n",
       "BILL_AMT6                     float64\n",
       "PAY_AMT1                      float64\n",
       "PAY_AMT2                      float64\n",
       "PAY_AMT3                      float64\n",
       "PAY_AMT4                      float64\n",
       "PAY_AMT5                      float64\n",
       "PAY_AMT6                      float64\n",
       "default payment next month     object\n",
       "dtype: object"
      ]
     },
     "execution_count": 76,
     "metadata": {},
     "output_type": "execute_result"
    }
   ],
   "source": [
    "df.dtypes"
   ]
  },
  {
   "attachments": {},
   "cell_type": "markdown",
   "metadata": {},
   "source": [
    "# Separando dataset entre treinamento e teste\n",
    "Os datasets serão divididos entre conjuntos de treino (75%) e teste (25%).\n",
    "\n",
    "random_state é setado para 42 para garantir que sempre que esse bloco seja executado, resulte na mesma amostragem, afim de possibilitar reprodução exata dos resultados (já que a função train_test_split usa métodos \"aleatórios\" para gerar as amostras)."
   ]
  },
  {
   "cell_type": "code",
   "execution_count": 77,
   "metadata": {},
   "outputs": [],
   "source": [
    "X = df[features]\n",
    "y = df[label]\n",
    "\n",
    "X_train, X_test, y_train, y_test = train_test_split(X, y, test_size=0.25, random_state=42)"
   ]
  },
  {
   "attachments": {},
   "cell_type": "markdown",
   "metadata": {},
   "source": [
    "# Removendo colunas desnecessárias\n",
    "Foi considerado que a coluna \"ID\" não tem utilidade, e representa um atributo com valores únicos.\n",
    "\n",
    "Uma lista com todas os atributos úteis é criada e o conjunto de treino é podado com base nela."
   ]
  },
  {
   "cell_type": "code",
   "execution_count": 78,
   "metadata": {},
   "outputs": [],
   "source": [
    "useful_features = [\n",
    "    'LIMIT_BAL',\n",
    "    'SEX',\n",
    "    'EDUCATION',\n",
    "    'MARRIAGE',\n",
    "    'AGE',\n",
    "    'PAY_0',\n",
    "    'PAY_2',\n",
    "    'PAY_3',\n",
    "    'PAY_4',\n",
    "    'PAY_5',\n",
    "    'PAY_6',\n",
    "    'BILL_AMT1',\n",
    "    'BILL_AMT2',\n",
    "    'BILL_AMT3',\n",
    "    'BILL_AMT4',\n",
    "    'BILL_AMT5',\n",
    "    'BILL_AMT6',\n",
    "    'PAY_AMT1',\n",
    "    'PAY_AMT2',\n",
    "    'PAY_AMT3',\n",
    "    'PAY_AMT4',\n",
    "    'PAY_AMT5',\n",
    "    'PAY_AMT6'\n",
    "]\n",
    "\n",
    "X_train = X_train[useful_features]"
   ]
  },
  {
   "attachments": {},
   "cell_type": "markdown",
   "metadata": {},
   "source": [
    "# Preparar uma base de dados no formato numérico\n",
    "A base de dados já encontra-se em formato numérico. Os dados categóricos, embora codificados como números, não representam valores, mas sim categorias/classes. Esse fato é tratado na codificação de dados categóricos."
   ]
  },
  {
   "attachments": {},
   "cell_type": "markdown",
   "metadata": {},
   "source": [
    "# Preenchendo dados ausentes\n",
    "\n",
    "Por meio da função do Pandas isnull() e sum(), é possível contabilizar quantos dados ausentes existem em cada atributo.\n",
    "Nenhum dado ausente foi encontrado."
   ]
  },
  {
   "cell_type": "code",
   "execution_count": 79,
   "metadata": {},
   "outputs": [
    {
     "data": {
      "text/plain": [
       "LIMIT_BAL    0\n",
       "SEX          0\n",
       "EDUCATION    0\n",
       "MARRIAGE     0\n",
       "AGE          0\n",
       "PAY_0        0\n",
       "PAY_2        0\n",
       "PAY_3        0\n",
       "PAY_4        0\n",
       "PAY_5        0\n",
       "PAY_6        0\n",
       "BILL_AMT1    0\n",
       "BILL_AMT2    0\n",
       "BILL_AMT3    0\n",
       "BILL_AMT4    0\n",
       "BILL_AMT5    0\n",
       "BILL_AMT6    0\n",
       "PAY_AMT1     0\n",
       "PAY_AMT2     0\n",
       "PAY_AMT3     0\n",
       "PAY_AMT4     0\n",
       "PAY_AMT5     0\n",
       "PAY_AMT6     0\n",
       "dtype: int64"
      ]
     },
     "execution_count": 79,
     "metadata": {},
     "output_type": "execute_result"
    }
   ],
   "source": [
    "X_train.isnull().sum()"
   ]
  },
  {
   "attachments": {},
   "cell_type": "markdown",
   "metadata": {},
   "source": [
    "# Codificando dados categóricos em dados numéricos\n",
    "Usando a função get_dummies do Pandas, é possível aplicar one-hot-encoding nos atributos categóricos,\n",
    "gerando uma maneira de determinar a categoria dos registros de uma forma que os modelos entendam."
   ]
  },
  {
   "cell_type": "code",
   "execution_count": 80,
   "metadata": {},
   "outputs": [],
   "source": [
    "categorical_features = [\n",
    "    'SEX',\n",
    "    'EDUCATION',\n",
    "    'MARRIAGE',\n",
    "    'PAY_0',\n",
    "    'PAY_2',\n",
    "    'PAY_3',\n",
    "    'PAY_4',\n",
    "    'PAY_5',\n",
    "    'PAY_6',\n",
    "]\n",
    "\n",
    "X_train = pandas.get_dummies(X_train, prefix=categorical_features, columns=categorical_features)"
   ]
  },
  {
   "attachments": {},
   "cell_type": "markdown",
   "metadata": {},
   "source": [
    "# Escalar dados numéricos com min-max\n",
    "Foi criada uma função \"normalize_df_columns\" para aplicar a normalização nos atributos numéricos."
   ]
  },
  {
   "cell_type": "code",
   "execution_count": 81,
   "metadata": {},
   "outputs": [],
   "source": [
    "def normalize_df_columns(df: pandas.DataFrame, columns: list):\n",
    "    df[columns] = (\n",
    "        (df[columns] - df[columns].min())\n",
    "        /\n",
    "        (df[columns].max()-df[columns].min())\n",
    "    )\n",
    "\n",
    "    return df\n",
    "\n",
    "numerical_features = [\n",
    "    'LIMIT_BAL',\n",
    "    'AGE',\n",
    "    'BILL_AMT1',\n",
    "    'BILL_AMT2',\n",
    "    'BILL_AMT3',\n",
    "    'BILL_AMT4',\n",
    "    'BILL_AMT5',\n",
    "    'BILL_AMT6',\n",
    "    'PAY_AMT1',\n",
    "    'PAY_AMT2',\n",
    "    'PAY_AMT3',\n",
    "    'PAY_AMT4',\n",
    "    'PAY_AMT5',\n",
    "    'PAY_AMT6'\n",
    "]\n",
    "\n",
    "X_train = normalize_df_columns(X_train, numerical_features)"
   ]
  },
  {
   "attachments": {},
   "cell_type": "markdown",
   "metadata": {},
   "source": [
    "# Resultado final"
   ]
  },
  {
   "cell_type": "code",
   "execution_count": 82,
   "metadata": {},
   "outputs": [
    {
     "data": {
      "text/html": [
       "<div>\n",
       "<style scoped>\n",
       "    .dataframe tbody tr th:only-of-type {\n",
       "        vertical-align: middle;\n",
       "    }\n",
       "\n",
       "    .dataframe tbody tr th {\n",
       "        vertical-align: top;\n",
       "    }\n",
       "\n",
       "    .dataframe thead th {\n",
       "        text-align: right;\n",
       "    }\n",
       "</style>\n",
       "<table border=\"1\" class=\"dataframe\">\n",
       "  <thead>\n",
       "    <tr style=\"text-align: right;\">\n",
       "      <th></th>\n",
       "      <th>LIMIT_BAL</th>\n",
       "      <th>AGE</th>\n",
       "      <th>BILL_AMT1</th>\n",
       "      <th>BILL_AMT2</th>\n",
       "      <th>BILL_AMT3</th>\n",
       "      <th>BILL_AMT4</th>\n",
       "      <th>BILL_AMT5</th>\n",
       "      <th>BILL_AMT6</th>\n",
       "      <th>PAY_AMT1</th>\n",
       "      <th>PAY_AMT2</th>\n",
       "      <th>...</th>\n",
       "      <th>PAY_6_-2</th>\n",
       "      <th>PAY_6_-1</th>\n",
       "      <th>PAY_6_0</th>\n",
       "      <th>PAY_6_2</th>\n",
       "      <th>PAY_6_3</th>\n",
       "      <th>PAY_6_4</th>\n",
       "      <th>PAY_6_5</th>\n",
       "      <th>PAY_6_6</th>\n",
       "      <th>PAY_6_7</th>\n",
       "      <th>PAY_6_8</th>\n",
       "    </tr>\n",
       "  </thead>\n",
       "  <tbody>\n",
       "    <tr>\n",
       "      <th>21177</th>\n",
       "      <td>0.292929</td>\n",
       "      <td>0.185185</td>\n",
       "      <td>0.218131</td>\n",
       "      <td>0.144696</td>\n",
       "      <td>0.084590</td>\n",
       "      <td>0.241396</td>\n",
       "      <td>0.167150</td>\n",
       "      <td>0.254739</td>\n",
       "      <td>0.004579</td>\n",
       "      <td>0.002375</td>\n",
       "      <td>...</td>\n",
       "      <td>0</td>\n",
       "      <td>0</td>\n",
       "      <td>1</td>\n",
       "      <td>0</td>\n",
       "      <td>0</td>\n",
       "      <td>0</td>\n",
       "      <td>0</td>\n",
       "      <td>0</td>\n",
       "      <td>0</td>\n",
       "      <td>0</td>\n",
       "    </tr>\n",
       "    <tr>\n",
       "      <th>23942</th>\n",
       "      <td>0.010101</td>\n",
       "      <td>0.055556</td>\n",
       "      <td>0.160438</td>\n",
       "      <td>0.082141</td>\n",
       "      <td>0.055947</td>\n",
       "      <td>0.173979</td>\n",
       "      <td>0.097419</td>\n",
       "      <td>0.190589</td>\n",
       "      <td>0.001503</td>\n",
       "      <td>0.001253</td>\n",
       "      <td>...</td>\n",
       "      <td>0</td>\n",
       "      <td>0</td>\n",
       "      <td>1</td>\n",
       "      <td>0</td>\n",
       "      <td>0</td>\n",
       "      <td>0</td>\n",
       "      <td>0</td>\n",
       "      <td>0</td>\n",
       "      <td>0</td>\n",
       "      <td>0</td>\n",
       "    </tr>\n",
       "    <tr>\n",
       "      <th>1247</th>\n",
       "      <td>0.080808</td>\n",
       "      <td>0.259259</td>\n",
       "      <td>0.148879</td>\n",
       "      <td>0.068751</td>\n",
       "      <td>0.035643</td>\n",
       "      <td>0.160138</td>\n",
       "      <td>0.080648</td>\n",
       "      <td>0.178567</td>\n",
       "      <td>0.003053</td>\n",
       "      <td>0.000000</td>\n",
       "      <td>...</td>\n",
       "      <td>1</td>\n",
       "      <td>0</td>\n",
       "      <td>0</td>\n",
       "      <td>0</td>\n",
       "      <td>0</td>\n",
       "      <td>0</td>\n",
       "      <td>0</td>\n",
       "      <td>0</td>\n",
       "      <td>0</td>\n",
       "      <td>0</td>\n",
       "    </tr>\n",
       "    <tr>\n",
       "      <th>23622</th>\n",
       "      <td>0.292929</td>\n",
       "      <td>0.351852</td>\n",
       "      <td>0.146519</td>\n",
       "      <td>0.066220</td>\n",
       "      <td>0.035643</td>\n",
       "      <td>0.160138</td>\n",
       "      <td>0.080648</td>\n",
       "      <td>0.178567</td>\n",
       "      <td>0.000000</td>\n",
       "      <td>0.000000</td>\n",
       "      <td>...</td>\n",
       "      <td>1</td>\n",
       "      <td>0</td>\n",
       "      <td>0</td>\n",
       "      <td>0</td>\n",
       "      <td>0</td>\n",
       "      <td>0</td>\n",
       "      <td>0</td>\n",
       "      <td>0</td>\n",
       "      <td>0</td>\n",
       "      <td>0</td>\n",
       "    </tr>\n",
       "    <tr>\n",
       "      <th>28454</th>\n",
       "      <td>0.060606</td>\n",
       "      <td>0.277778</td>\n",
       "      <td>0.206716</td>\n",
       "      <td>0.130625</td>\n",
       "      <td>0.069930</td>\n",
       "      <td>0.187751</td>\n",
       "      <td>0.109249</td>\n",
       "      <td>0.203717</td>\n",
       "      <td>0.003823</td>\n",
       "      <td>0.001214</td>\n",
       "      <td>...</td>\n",
       "      <td>0</td>\n",
       "      <td>0</td>\n",
       "      <td>1</td>\n",
       "      <td>0</td>\n",
       "      <td>0</td>\n",
       "      <td>0</td>\n",
       "      <td>0</td>\n",
       "      <td>0</td>\n",
       "      <td>0</td>\n",
       "      <td>0</td>\n",
       "    </tr>\n",
       "  </tbody>\n",
       "</table>\n",
       "<p>5 rows × 91 columns</p>\n",
       "</div>"
      ],
      "text/plain": [
       "       LIMIT_BAL       AGE  BILL_AMT1  BILL_AMT2  BILL_AMT3  BILL_AMT4  \\\n",
       "21177   0.292929  0.185185   0.218131   0.144696   0.084590   0.241396   \n",
       "23942   0.010101  0.055556   0.160438   0.082141   0.055947   0.173979   \n",
       "1247    0.080808  0.259259   0.148879   0.068751   0.035643   0.160138   \n",
       "23622   0.292929  0.351852   0.146519   0.066220   0.035643   0.160138   \n",
       "28454   0.060606  0.277778   0.206716   0.130625   0.069930   0.187751   \n",
       "\n",
       "       BILL_AMT5  BILL_AMT6  PAY_AMT1  PAY_AMT2  ...  PAY_6_-2  PAY_6_-1  \\\n",
       "21177   0.167150   0.254739  0.004579  0.002375  ...         0         0   \n",
       "23942   0.097419   0.190589  0.001503  0.001253  ...         0         0   \n",
       "1247    0.080648   0.178567  0.003053  0.000000  ...         1         0   \n",
       "23622   0.080648   0.178567  0.000000  0.000000  ...         1         0   \n",
       "28454   0.109249   0.203717  0.003823  0.001214  ...         0         0   \n",
       "\n",
       "       PAY_6_0  PAY_6_2  PAY_6_3  PAY_6_4  PAY_6_5  PAY_6_6  PAY_6_7  PAY_6_8  \n",
       "21177        1        0        0        0        0        0        0        0  \n",
       "23942        1        0        0        0        0        0        0        0  \n",
       "1247         0        0        0        0        0        0        0        0  \n",
       "23622        0        0        0        0        0        0        0        0  \n",
       "28454        1        0        0        0        0        0        0        0  \n",
       "\n",
       "[5 rows x 91 columns]"
      ]
     },
     "execution_count": 82,
     "metadata": {},
     "output_type": "execute_result"
    }
   ],
   "source": [
    "X_train.head()"
   ]
  }
 ],
 "metadata": {
  "kernelspec": {
   "display_name": "Python 3",
   "language": "python",
   "name": "python3"
  },
  "language_info": {
   "codemirror_mode": {
    "name": "ipython",
    "version": 3
   },
   "file_extension": ".py",
   "mimetype": "text/x-python",
   "name": "python",
   "nbconvert_exporter": "python",
   "pygments_lexer": "ipython3",
   "version": "3.10.6"
  },
  "orig_nbformat": 4,
  "vscode": {
   "interpreter": {
    "hash": "916dbcbb3f70747c44a77c7bcd40155683ae19c65e1c03b4aa3499c5328201f1"
   }
  }
 },
 "nbformat": 4,
 "nbformat_minor": 2
}
